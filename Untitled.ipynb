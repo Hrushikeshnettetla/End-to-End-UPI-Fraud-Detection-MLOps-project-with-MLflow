{
 "cells": [
  {
   "cell_type": "code",
   "execution_count": null,
   "id": "a8d1432a-a1f9-490a-913d-b71d66feb372",
   "metadata": {},
   "outputs": [],
   "source": []
  }
 ],
 "metadata": {
  "kernelspec": {
   "display_name": "Python 3 (ipykernel)",
   "language": "python",
   "name": "python3"
  },
  "language_info": {
   "codemirror_mode": {
    "name": "ipython",
    "version": 3
   },
   "file_extension": ".py",
   "mimetype": "text/x-python",
   "name": "python",
   "nbconvert_exporter": "python",
   "pygments_lexer": "ipython3",
   "version": "3.13.5"
  }
 },
 "nbformat": 4,
 "nbformat_minor": 5
}
